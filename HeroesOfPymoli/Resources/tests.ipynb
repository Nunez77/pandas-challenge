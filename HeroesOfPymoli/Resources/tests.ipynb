just_gender = purchase_data[['Gender','SN']].drop_duplicates(subset = 'SN')

gp_gender = purchase_data.groupby('Gender')

gender_count = just_gender['Gender'].value_counts(0)

purchase_count = round(gp_gender['Purchase ID'].count(), 0)
avg_price = round(gp_gender['Price'].mean(), 2)
total_price = round(gp_gender['Price'].sum(), 2)
total_by_gen = round(total_price / gender_count, 2)

d_f_2 = pd.DataFrame([purchase_count, avg_price, total_price, total_by_gen])
summary2 = d_f_2.T
summary2.columns = ['Purchase Count', 'Average Purchase Price', 'Total Purchase Value', 'Avg Total Purchase per Person']
summary2